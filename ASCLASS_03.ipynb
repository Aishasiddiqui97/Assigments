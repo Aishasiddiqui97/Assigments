{
  "nbformat": 4,
  "nbformat_minor": 0,
  "metadata": {
    "colab": {
      "provenance": [],
      "authorship_tag": "ABX9TyNa11mG9lomKb+tK8F0SBYG",
      "include_colab_link": true
    },
    "kernelspec": {
      "name": "python3",
      "display_name": "Python 3"
    },
    "language_info": {
      "name": "python"
    }
  },
  "cells": [
    {
      "cell_type": "markdown",
      "metadata": {
        "id": "view-in-github",
        "colab_type": "text"
      },
      "source": [
        "<a href=\"https://colab.research.google.com/github/Aishasiddiqui97/Assigments/blob/main/ASCLASS_03.ipynb\" target=\"_parent\"><img src=\"https://colab.research.google.com/assets/colab-badge.svg\" alt=\"Open In Colab\"/></a>"
      ]
    },
    {
      "cell_type": "markdown",
      "source": [],
      "metadata": {
        "id": "mUPdCKqGQEjU"
      }
    },
    {
      "cell_type": "markdown",
      "source": [
        "**Four Kinds Of Operators**\n",
        "\n",
        "# 1. Arithematic operators  \n",
        "# 2. Assigment operators\n",
        "# 3. Comparison operators (boolean) True / False\n",
        "# 4. Logical operators"
      ],
      "metadata": {
        "id": "U6tC6uPNFxWX"
      }
    },
    {
      "cell_type": "code",
      "source": [
        "# 1. Arithematic operators\n",
        "\n",
        "#  7 + 5 = 12\n",
        "print(7 + 5)\n",
        "print(10 - 5)\n",
        "print(10 * 2)\n",
        "#     5 X 2\n",
        "print(5 / 2)\n",
        "# exponent  8^2 = 8 X 8\n",
        "print(8 , 2)\n",
        "# floor division\n",
        "print(11 , 2)\n",
        "#      11  2 = 1  remainder  modulus\n",
        "print(11 % 2)\n",
        "\n",
        "num1: int = 5  # type: ignore\n",
        "num2: int = 5 # type: ignore\n",
        "\n",
        "#           5   +  5\n",
        "sum: int = num1 + num2 # type: ignore\n",
        "#           5   -  5\n",
        "sub: int = num1 - num2 # type: ignore\n",
        "#           5     5\n",
        "div: int = num1 * num2 # type: ignore\n",
        "#           5   x  5\n",
        "nmu1: int = num1 / num2 # type: ignore\n",
        "print(nmu1) # type: ignore\n",
        "\n",
        "# 2. Assigment operators\n",
        "\n",
        "x : int = 15 # type: ignore\n",
        "#  15 + 5 = 15\n",
        "x = x + 5 # type: ignore\n",
        "# x = x - 5\n",
        "# x = x  2\n",
        "\n",
        "# x int = 15\n",
        "#   15  2 = 30\n",
        "# remainder  modulus\n",
        "# x = x % 3\n",
        "\n",
        "print(x)\n",
        "\n",
        "# 3. Comparison operators (TrueFalse)\n",
        "#  ==   (equal to)\n",
        "#      (greater than)\n",
        "#      (less than)\n",
        "#  =   (greater or equal to)\n",
        "#  =    (less than or equal to)\n",
        "#  !=    (not equal to)\n",
        "\n",
        "#  mera pehla operandvalue\n",
        "# dusre wale operandvalue k baraber he\n",
        "\n",
        "num1: int = 10  # type: ignore\n",
        "num2: int = 11 # type: ignore\n",
        "# print(10 == 10)\n",
        "print(num1 == num2) # type: ignore\n",
        "print(num2 / num1) # type: ignore\n",
        "print(num2 - num1) # type: ignore\n",
        "print(num1 + num2 ) # type: ignore\n",
        "print(num1 * num2) # type: ignore\n",
        "print(num1 != num2) # type: ignore\n",
        "\n",
        "# Logical operators\n",
        "#  and, or , not\n",
        "#  or, True & False\n",
        "\n",
        "num1: int = 20\n",
        "num2: int = 25\n",
        "print(num1 < 10 and num1 > 30)\n",
        "print(num1 !=20 and num2 > 50)"
      ],
      "metadata": {
        "colab": {
          "base_uri": "https://localhost:8080/"
        },
        "id": "DcrTWAghQGxf",
        "outputId": "e00263a0-de97-46e1-b8ff-92d6cfa74412"
      },
      "execution_count": null,
      "outputs": [
        {
          "output_type": "stream",
          "name": "stdout",
          "text": [
            "12\n",
            "5\n",
            "20\n",
            "2.5\n",
            "8 2\n",
            "11 2\n",
            "1\n",
            "1.0\n",
            "20\n",
            "False\n",
            "1.1\n",
            "1\n",
            "21\n",
            "110\n",
            "True\n",
            "False\n",
            "False\n"
          ]
        }
      ]
    }
  ]
}