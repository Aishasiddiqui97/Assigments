{
  "nbformat": 4,
  "nbformat_minor": 0,
  "metadata": {
    "colab": {
      "provenance": [],
      "authorship_tag": "ABX9TyPNjmPOGRro7a3Lw1tyKl4e",
      "include_colab_link": true
    },
    "kernelspec": {
      "name": "python3",
      "display_name": "Python 3"
    },
    "language_info": {
      "name": "python"
    }
  },
  "cells": [
    {
      "cell_type": "markdown",
      "metadata": {
        "id": "view-in-github",
        "colab_type": "text"
      },
      "source": [
        "<a href=\"https://colab.research.google.com/github/Aishasiddiqui97/Assigments/blob/main/AS_CLASS10Assigment.ipynb\" target=\"_parent\"><img src=\"https://colab.research.google.com/assets/colab-badge.svg\" alt=\"Open In Colab\"/></a>"
      ]
    },
    {
      "cell_type": "code",
      "execution_count": 1,
      "metadata": {
        "colab": {
          "base_uri": "https://localhost:8080/"
        },
        "id": "YnEduXtTe1x9",
        "outputId": "3cacf75d-5499-484d-c2ce-cdd4328fdb29"
      },
      "outputs": [
        {
          "output_type": "stream",
          "name": "stdout",
          "text": [
            "None\n",
            "12\n",
            "{'Aisha', 'Asad', 'Eman', 'Yoha', 'A.Jabbar'}\n",
            "{'eman', 'yoha', 'aisha', 'A.jabbar'}\n",
            "{'eman', 'Asad', 'aisha', 'A.jabbar'}\n",
            "{'yoha', 'Asad', 'aisha', 'A.jabbar'}\n",
            "result {1, 2, 3, 4, 5, 6, 7, 8, 9, 10}\n",
            "result set()\n",
            "inside function: 30\n",
            "inside function: 50\n",
            "outside function: 50\n"
          ]
        }
      ],
      "source": [
        "#DOC STRING\n",
        "def add(num1:int,num2:int)->int:\n",
        "   return num1 +num2\n",
        "result=add(5,7)\n",
        "print(add.__doc__)\n",
        "print(result)\n",
        "\n",
        "#SET METHOD;\n",
        "#ADD\n",
        "#REMOVE\n",
        "#DISCAED\n",
        "#POP\n",
        "#UNION\n",
        "#INTERSECTION\n",
        "\n",
        "#ADD\n",
        "names_set = {\"Asad\",\"A.Jabbar\",\"Yoha\",\"Aisha\"}\n",
        "names_set.add(\"Eman\")\n",
        "print(names_set)\n",
        "\n",
        "#REMOVE\n",
        "names_set ={\"Asad\",\"yoha\",\"aisha\",\"eman\",\"A.jabbar\"}\n",
        "names_set.remove(\"Asad\")\n",
        "print(names_set)\n",
        "\n",
        "#DISCARD\n",
        "names_set ={\"Asad\",\"yoha\",\"aisha\",\"eman\",\"A.jabbar\"}\n",
        "names_set.discard(\"yoha\")\n",
        "print(names_set)\n",
        "\n",
        "#POP\n",
        "names_set ={\"Asad\",\"yoha\",\"aisha\",\"eman\",\"A.jabbar\"}\n",
        "names_set.pop()\n",
        "print(names_set)\n",
        "\n",
        "#POP WITH UNION\n",
        "num_set1 ={1,2,3,4,5}\n",
        "num_set2 ={6,7,8,9,10}\n",
        "result=num_set1.union(num_set2)\n",
        "print(\"result\",result)\n",
        "\n",
        "#INTERSECTION\n",
        "\n",
        "num_set1 ={1,2,3,4,5}\n",
        "num_set2 ={6,7,8,9,10}\n",
        "result=num_set2.intersection(num_set1)\n",
        "print(\"result\",result)\n",
        "\n",
        "\n",
        "#LOCAL & GLOBAL VARABILES\n",
        "#local variables jo function andar define kia jata h surf is function ma acessable hota h jo wo local varaiables hota h\n",
        "#global varabiles jo function bhay define krta h program k jagha acess hota h global varabiles\n",
        "\n",
        "\n",
        "def my_function():\n",
        "   x=30 #\n",
        "   print(\"inside function:\" , x)\n",
        "my_function()\n",
        "#print(\"outside function:\", x) #error generate\n",
        "\n",
        "#global varabiles\n",
        "Y=50\n",
        "def designers():\n",
        "   print(\"inside function:\" , Y)\n",
        "designers()\n",
        "print(\"outside function:\" , Y)"
      ]
    }
  ]
}