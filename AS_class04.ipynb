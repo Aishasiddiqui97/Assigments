{
  "nbformat": 4,
  "nbformat_minor": 0,
  "metadata": {
    "colab": {
      "provenance": [],
      "authorship_tag": "ABX9TyPDAQrEw8F6CouC2GwPW6R6",
      "include_colab_link": true
    },
    "kernelspec": {
      "name": "python3",
      "display_name": "Python 3"
    },
    "language_info": {
      "name": "python"
    }
  },
  "cells": [
    {
      "cell_type": "markdown",
      "metadata": {
        "id": "view-in-github",
        "colab_type": "text"
      },
      "source": [
        "<a href=\"https://colab.research.google.com/github/Aishasiddiqui97/Assigments/blob/main/AS_class04.ipynb\" target=\"_parent\"><img src=\"https://colab.research.google.com/assets/colab-badge.svg\" alt=\"Open In Colab\"/></a>"
      ]
    },
    {
      "cell_type": "markdown",
      "source": [],
      "metadata": {
        "id": "LUL4qa0lVIyM"
      }
    },
    {
      "cell_type": "markdown",
      "source": [
        "**Revision Class**\n",
        "\n",
        "# Variable = To Store Data"
      ],
      "metadata": {
        "id": "E-yOt4xwIdpg"
      }
    },
    {
      "cell_type": "code",
      "source": [
        "name: str = \"Aisha\"\n",
        "age: int = 20\n",
        "isActive: bool = True\n",
        "print(name)\n",
        "\n",
        "# 7. Comment (#)\n",
        "\n",
        "# 8. Operators:\n",
        "# || Arithmetic operators ||\n",
        "x = 10\n",
        "y = 3\n",
        "print(x + y)     #Addition       : 13\n",
        "print(x - y)     #Subtraction    : 7\n",
        "print(x * y)     #Multiplication : 30\n",
        "print(x / y)     #Division       : 3.3333....\n",
        "print(x // y)    #Floor Division : 3 (Decimal ko hata deta hai/ divide me upr wala)\n",
        "print(x % y)     #Modulus        : 1 (remainder)\n",
        "print(x ** y)    #Exponentiation : 1000 (10^3 or 10*10*10)\n",
        "num1: int = 5\n",
        "num2: int = 5\n",
        "sum: int = num1 + num2\n",
        "print(sum)\n",
        "\n",
        "# || Asignment operators ||\n",
        "# Value ko assign krne k liye jo operator use hota (=)\n",
        "x: int = 15\n",
        "x = x + 5\n",
        "print(x)\n",
        "\n",
        "# || Comparison operators || True/False\n",
        "# == (equal to)\n",
        "# >  (greater than equal to)\n",
        "# < (less than)\n",
        "# >= (greater than equal to)\n",
        "# <= (less than equal to)\n",
        "# != (not equal to)\n",
        "\n",
        "num1: int = 10\n",
        "num2: int = 11\n",
        "print(num1 == num2)  #False\n",
        "print(num1 > num2)   #False\n",
        "print(num1 < num2)   #True\n",
        "print(num1 >= num2)  #False\n",
        "print(num1 <= num2)  #True\n",
        "print(num1 != num2)  #True\n",
        "\n",
        "\n",
        "# || Logical operators ||\n",
        "# and, or, not\n",
        "\n",
        "# condition (and)\n",
        "num1: int = 40\n",
        "num2: int = 11\n",
        "print(num1 > 10 and num1 < 30) #False\n",
        "# num1 is greater than 10 AND num1 is less than 30\n",
        "# (and) condition me puri condition thek honi chahiye\n",
        "\n",
        "# condition (or)\n",
        "num1: int = 40\n",
        "num2: int = 11\n",
        "print(num1 > 10 or num1 < 30) #True\n",
        "# (or) condition me koi ek thek honi chahiye\n",
        "\n",
        "# Ghar py 2 cheezen hain ek ups and ek k_electric\n",
        "\n",
        "k_electric: \"no k_electric\"\n",
        "ups: \"no ups\"\n",
        "print(\"k_electric\" == \"no k_electric\" or \"ups\" != \"no ups\")\n",
        "\n",
        "# condition (not)\n",
        "# condition true hogi to false hojaegi or agr false hogi to true hojaegi\n",
        "\n",
        "# || IF ELSE ||\n",
        "# if - agr\n",
        "# else - wrna\n",
        "\n",
        "# indentations - Double space sy if k bad wali line me jo bhi likhogy to if ki condition me aega\n",
        "\n",
        "num1: int = 2\n",
        "num2: int = 1\n",
        "if num1>1:\n",
        "    print(\"Hello\")\n",
        "    uname=\"Sir Sohaib\"\n",
        "    print(uname)"
      ],
      "metadata": {
        "colab": {
          "base_uri": "https://localhost:8080/"
        },
        "id": "rT53w71NVKjb",
        "outputId": "4b86c9fb-2f54-4893-ebfc-31cd64076615"
      },
      "execution_count": null,
      "outputs": [
        {
          "output_type": "stream",
          "name": "stdout",
          "text": [
            "Aisha\n",
            "13\n",
            "7\n",
            "30\n",
            "3.3333333333333335\n",
            "3\n",
            "1\n",
            "1000\n",
            "10\n",
            "20\n",
            "False\n",
            "False\n",
            "True\n",
            "False\n",
            "True\n",
            "True\n",
            "False\n",
            "True\n",
            "True\n",
            "Hello\n",
            "Sir Sohaib\n"
          ]
        }
      ]
    }
  ]
}