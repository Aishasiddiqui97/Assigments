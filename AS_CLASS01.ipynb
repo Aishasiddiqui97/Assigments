{
  "nbformat": 4,
  "nbformat_minor": 0,
  "metadata": {
    "colab": {
      "provenance": [],
      "authorship_tag": "ABX9TyMnOdmvmZRSkaP5w6AAUx05",
      "include_colab_link": true
    },
    "kernelspec": {
      "name": "python3",
      "display_name": "Python 3"
    },
    "language_info": {
      "name": "python"
    }
  },
  "cells": [
    {
      "cell_type": "markdown",
      "metadata": {
        "id": "view-in-github",
        "colab_type": "text"
      },
      "source": [
        "<a href=\"https://colab.research.google.com/github/Aishasiddiqui97/Assigments/blob/main/AS_CLASS01.ipynb\" target=\"_parent\"><img src=\"https://colab.research.google.com/assets/colab-badge.svg\" alt=\"Open In Colab\"/></a>"
      ]
    },
    {
      "cell_type": "markdown",
      "source": [
        "#1. PythonInstall\n",
        "# 2.CMD | python --version | python | print(\"Hello, World!\")\n",
        "#3. VSCODE | Create Python Folder | VSCODE-File-Open Folder-Then Select New File\n",
        "#4. print(\"Hello, World!\")\n",
        "# 5. Folder | Upper Link | Clear Path | CMD  "
      ],
      "metadata": {
        "id": "NmSnSoL_Lwo9"
      }
    },
    {
      "cell_type": "code",
      "source": [
        "print(\"Hello Google Colabs\")"
      ],
      "metadata": {
        "colab": {
          "base_uri": "https://localhost:8080/"
        },
        "id": "JJdHliuAMul3",
        "outputId": "8bb37519-fd63-40cf-e3ce-6a0de18a0e83"
      },
      "execution_count": null,
      "outputs": [
        {
          "output_type": "stream",
          "name": "stdout",
          "text": [
            "Hello Google Colabs\n"
          ]
        }
      ]
    },
    {
      "cell_type": "code",
      "source": [
        "print(\"Hello, World\")"
      ],
      "metadata": {
        "colab": {
          "base_uri": "https://localhost:8080/"
        },
        "id": "10Ui2HlrNAcI",
        "outputId": "06baa4d0-1d98-4234-fba1-31f28f4c1512"
      },
      "execution_count": null,
      "outputs": [
        {
          "output_type": "stream",
          "name": "stdout",
          "text": [
            "Hello, World\n"
          ]
        }
      ]
    },
    {
      "cell_type": "code",
      "source": [
        "print(\"Hi Python & Anaconda World\")"
      ],
      "metadata": {
        "colab": {
          "base_uri": "https://localhost:8080/"
        },
        "id": "3phnOPQWNI-H",
        "outputId": "9c4c4721-e527-4a53-d40b-df2bff13bfb1"
      },
      "execution_count": null,
      "outputs": [
        {
          "output_type": "stream",
          "name": "stdout",
          "text": [
            "Hi Python & Anaconda World\n"
          ]
        }
      ]
    }
  ]
}