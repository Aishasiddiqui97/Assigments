{
  "nbformat": 4,
  "nbformat_minor": 0,
  "metadata": {
    "colab": {
      "provenance": [],
      "authorship_tag": "ABX9TyN/s8XTcrvJZ5zFiZKeib1d",
      "include_colab_link": true
    },
    "kernelspec": {
      "name": "python3",
      "display_name": "Python 3"
    },
    "language_info": {
      "name": "python"
    }
  },
  "cells": [
    {
      "cell_type": "markdown",
      "metadata": {
        "id": "view-in-github",
        "colab_type": "text"
      },
      "source": [
        "<a href=\"https://colab.research.google.com/github/Aishasiddiqui97/Assigments/blob/main/ASCLASS_05_CLASS_%26_ASSIGMENT.ipynb\" target=\"_parent\"><img src=\"https://colab.research.google.com/assets/colab-badge.svg\" alt=\"Open In Colab\"/></a>"
      ]
    },
    {
      "cell_type": "markdown",
      "source": [
        "Class_05\n",
        "\n",
        "Class Work &\n",
        "\n",
        "All Assignment Work"
      ],
      "metadata": {
        "id": "LfmUxtW6YbwI"
      }
    },
    {
      "cell_type": "code",
      "source": [
        "Class_05 = \"Coding Work With Python By Sir Aneeq, Sir Aleem\"\n",
        "print(Class_05)\n",
        "# condition -> True/False\n",
        "if False:\n",
        "    print(\"condition is true\")\n",
        "else:\n",
        "    print(\"condition is false\")\n",
        "\n",
        "# comparison operators -> True / False\n",
        "num: int = 10\n",
        "print(num < 10)  # False\n",
        "print(num > 0)  # True\n",
        "\n",
        "if num > 0:  # اگر num صفر سے بڑا ہو\n",
        "    print(\"number is positive\")\n",
        "else:\n",
        "    print(\"number is negative\")\n",
        "\n",
        "num: int = 100  # True اور False\n",
        "print(num > 0 and num < 100)  # False\n",
        "if num > 0 and num < 100:\n",
        "    print(\"number is positive\")\n",
        "else:\n",
        "    print(\"number is negative\")\n",
        "\n",
        "# String comparison\n",
        "name: str = \"Sir Ali\"\n",
        "\n",
        "if name == \"Sir Sohaib\":\n",
        "    print(\"welcome Sir Sohaib\")\n",
        "else:\n",
        "    print(\"App Kon\")\n",
        "\n",
        "print(\"Kesse hen Aap\")\n",
        "\n",
        "# Snake case variable\n",
        "time_of_day: str = \"abc\"\n",
        "\n",
        "if time_of_day == \"morning\":\n",
        "    print(\"Good Morning\")\n",
        "elif time_of_day == \"afternoon\":\n",
        "    print(\"Good AfterNoon\")\n",
        "elif time_of_day == \"evening\":\n",
        "    print(\"Good Evening\")\n",
        "else:\n",
        "    print(\"Good Night\")\n",
        "\n",
        "# List example\n",
        "names: list[str] = [\"Sir Aneeq\", \"Sir Sohaib\", \"Sir Sami\"]\n",
        "print(names)  # مکمل لسٹ پرنٹ کرے گا\n",
        "print(names[1])  # \"Sir Sohaib\" پرنٹ کرے گا\n",
        "\n",
        "# Range example\n",
        "numbers: list[int] = [1, 2, 3, 4, 5]\n",
        "print(numbers[4])  # 5 پرنٹ کرے گا\n",
        "\n",
        "if numbers[0] > 1:\n",
        "    print(\"First number is greater than 1\")\n",
        "\n",
        "res = range(1, 5)\n",
        "print(list(res))\n",
        "\n",
        "number2 = list(range(1, 5))\n",
        "print(number2)\n",
        "\n",
        "# For loop example\n",
        "for n in numbers:\n",
        "    print(\"n is\", n)\n",
        "\n",
        "# Final example\n",
        "numbers = [1, 2, 3, 4, 5, 6, 7, 8, 9, 10]\n",
        "print(\"Aam Zindagi\")\n",
        "print(numbers[0])\n",
        "print(numbers[1])\n",
        "print(numbers[2])\n",
        "print(numbers[3])\n",
        "print(numbers[4])\n",
        "\n",
        "print(\"Mintos Zindagi\")\n",
        "for num in numbers:\n",
        "    print(num)"
      ],
      "metadata": {
        "colab": {
          "base_uri": "https://localhost:8080/"
        },
        "id": "JXpOPlKOYc-o",
        "outputId": "320e5592-28ef-4b60-ca10-231763408b1e"
      },
      "execution_count": null,
      "outputs": [
        {
          "output_type": "stream",
          "name": "stdout",
          "text": [
            "Coding Work With Python By Sir Aneeq, Sir Aleem\n",
            "condition is false\n",
            "False\n",
            "True\n",
            "number is positive\n",
            "False\n",
            "number is negative\n",
            "App Kon\n",
            "Kesse hen Aap\n",
            "Good Night\n",
            "['Sir Aneeq', 'Sir Sohaib', 'Sir Sami']\n",
            "Sir Sohaib\n",
            "5\n",
            "[1, 2, 3, 4]\n",
            "[1, 2, 3, 4]\n",
            "n is 1\n",
            "n is 2\n",
            "n is 3\n",
            "n is 4\n",
            "n is 5\n",
            "Aam Zindagi\n",
            "1\n",
            "2\n",
            "3\n",
            "4\n",
            "5\n",
            "Mintos Zindagi\n",
            "1\n",
            "2\n",
            "3\n",
            "4\n",
            "5\n",
            "6\n",
            "7\n",
            "8\n",
            "9\n",
            "10\n"
          ]
        }
      ]
    }
  ]
}