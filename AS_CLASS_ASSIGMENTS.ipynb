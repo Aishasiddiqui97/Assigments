{
  "nbformat": 4,
  "nbformat_minor": 0,
  "metadata": {
    "colab": {
      "provenance": [],
      "authorship_tag": "ABX9TyO+lQiPvsepGfQCDBCTpH7O",
      "include_colab_link": true
    },
    "kernelspec": {
      "name": "python3",
      "display_name": "Python 3"
    },
    "language_info": {
      "name": "python"
    }
  },
  "cells": [
    {
      "cell_type": "markdown",
      "metadata": {
        "id": "view-in-github",
        "colab_type": "text"
      },
      "source": [
        "<a href=\"https://colab.research.google.com/github/Aishasiddiqui97/Assigments/blob/main/AS_CLASS_ASSIGMENTS.ipynb\" target=\"_parent\"><img src=\"https://colab.research.google.com/assets/colab-badge.svg\" alt=\"Open In Colab\"/></a>"
      ]
    },
    {
      "cell_type": "markdown",
      "source": [
        "REDUCE"
      ],
      "metadata": {
        "id": "MMhw-dF081yl"
      }
    },
    {
      "cell_type": "code",
      "source": [
        "#first we have to functool import reduce then, print\n",
        "#from functools import reduce\n",
        "#make a function & give to parameter like (a,b):then\n",
        "#return thr parameters in your condition like +,-,*,/ then:\n",
        "\n",
        "#def add(a,b):\n",
        " #   return a / b\n",
        "\n",
        "#make a list of numbers then,\n",
        "#numbers =[ 7,8,9,10,11]\n",
        " #make a varaibles = and import the reduce and in argument cell (function ,\"and writes\" list)\n",
        "#new_list = reduce(add,numbers)\n",
        "#then print are varaibles\n",
        "#print(new_list)"
      ],
      "metadata": {
        "id": "gi7PE8To84DW"
      },
      "execution_count": 1,
      "outputs": []
    },
    {
      "cell_type": "code",
      "source": [
        "#first we have to take from \"functool\" import \"reduce\"\n",
        "from functools import reduce\n",
        "numbers = [29,8,16,18,15,14,12,16,6]\n",
        "def Divi(a,m):\n",
        "    return a / m\n",
        "new_list =  reduce(Divi,numbers)\n",
        "print(new_list)"
      ],
      "metadata": {
        "colab": {
          "base_uri": "https://localhost:8080/"
        },
        "id": "9Vqm-z-B86qF",
        "outputId": "c15909f4-d3a6-4dc2-feb6-e7732aa10c79"
      },
      "execution_count": 2,
      "outputs": [
        {
          "output_type": "stream",
          "name": "stdout",
          "text": [
            "5.202879280570253e-08\n"
          ]
        }
      ]
    }
  ]
}