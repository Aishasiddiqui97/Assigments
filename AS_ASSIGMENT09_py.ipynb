{
  "nbformat": 4,
  "nbformat_minor": 0,
  "metadata": {
    "colab": {
      "provenance": [],
      "authorship_tag": "ABX9TyPubpTyUu1mNPPWBVhmGTsG",
      "include_colab_link": true
    },
    "kernelspec": {
      "name": "python3",
      "display_name": "Python 3"
    },
    "language_info": {
      "name": "python"
    }
  },
  "cells": [
    {
      "cell_type": "markdown",
      "metadata": {
        "id": "view-in-github",
        "colab_type": "text"
      },
      "source": [
        "<a href=\"https://colab.research.google.com/github/Aishasiddiqui97/Assigments/blob/main/AS_ASSIGMENT09_py.ipynb\" target=\"_parent\"><img src=\"https://colab.research.google.com/assets/colab-badge.svg\" alt=\"Open In Colab\"/></a>"
      ]
    },
    {
      "cell_type": "markdown",
      "source": [
        "Class_09\n",
        "\n",
        "Try Except = Error Handling\n",
        "\n",
        "** Class Assignment 09 **\n",
        "\n",
        "User_Input = Input (\"Entre Your Number\")\n",
        "Creat Table\n",
        "User InterFace Table"
      ],
      "metadata": {
        "id": "VdypNsVcrd0M"
      }
    },
    {
      "cell_type": "code",
      "source": [
        "try:\n",
        "    num = int(input(\"Enter a Number: \"))\n",
        "    print(f\"You Entered: {num}\\n\")\n",
        "\n",
        "    print(f\"Multiplication Table of {num}:\\n\")\n",
        "    for i in range(1, 20):\n",
        "        print(f\"{num} x {i} = {num * i}\")\n",
        "\n",
        "except ValueError:\n",
        "    print(\"Invalid Input! Please Enter a Valid Number.\")"
      ],
      "metadata": {
        "colab": {
          "base_uri": "https://localhost:8080/"
        },
        "id": "KIbNtE9grmsD",
        "outputId": "35368a86-64b0-4542-97da-68b71720277a"
      },
      "execution_count": null,
      "outputs": [
        {
          "output_type": "stream",
          "name": "stdout",
          "text": [
            "Enter a Number: 77\n",
            "You Entered: 77\n",
            "\n",
            "Multiplication Table of 77:\n",
            "\n",
            "77 x 1 = 77\n",
            "77 x 2 = 154\n",
            "77 x 3 = 231\n",
            "77 x 4 = 308\n",
            "77 x 5 = 385\n",
            "77 x 6 = 462\n",
            "77 x 7 = 539\n",
            "77 x 8 = 616\n",
            "77 x 9 = 693\n",
            "77 x 10 = 770\n",
            "77 x 11 = 847\n",
            "77 x 12 = 924\n",
            "77 x 13 = 1001\n",
            "77 x 14 = 1078\n",
            "77 x 15 = 1155\n",
            "77 x 16 = 1232\n",
            "77 x 17 = 1309\n",
            "77 x 18 = 1386\n",
            "77 x 19 = 1463\n"
          ]
        }
      ]
    },
    {
      "cell_type": "code",
      "source": [
        "try:\n",
        "    num = int(input(\"Enter a Number: \"))\n",
        "    print(f\"You Entered: {num}\\n\")\n",
        "\n",
        "    print(f\"Multiplication Table of {num}:\\n\")\n",
        "    for i in range(1, 21):\n",
        "        print(f\"{num} x {i} = {num * i}\")\n",
        "\n",
        "except ValueError:\n",
        "    print(\"Invalid Input! Please Enter a Valid Number.\")"
      ],
      "metadata": {
        "colab": {
          "base_uri": "https://localhost:8080/"
        },
        "id": "b-F4guj2sArK",
        "outputId": "271a839a-ac10-48b0-8e76-c76bbdd7fb11"
      },
      "execution_count": null,
      "outputs": [
        {
          "output_type": "stream",
          "name": "stdout",
          "text": [
            "Enter a Number: 700\n",
            "You Entered: 700\n",
            "\n",
            "Multiplication Table of 700:\n",
            "\n",
            "700 x 1 = 700\n",
            "700 x 2 = 1400\n",
            "700 x 3 = 2100\n",
            "700 x 4 = 2800\n",
            "700 x 5 = 3500\n",
            "700 x 6 = 4200\n",
            "700 x 7 = 4900\n",
            "700 x 8 = 5600\n",
            "700 x 9 = 6300\n",
            "700 x 10 = 7000\n",
            "700 x 11 = 7700\n",
            "700 x 12 = 8400\n",
            "700 x 13 = 9100\n",
            "700 x 14 = 9800\n",
            "700 x 15 = 10500\n",
            "700 x 16 = 11200\n",
            "700 x 17 = 11900\n",
            "700 x 18 = 12600\n",
            "700 x 19 = 13300\n",
            "700 x 20 = 14000\n"
          ]
        }
      ]
    },
    {
      "cell_type": "code",
      "source": [
        "import calendar\n",
        "\n",
        "# User input with error handling\n",
        "try:\n",
        "    num = int(input(\"Enter a Number: \"))\n",
        "    print(f\"You Entered: {num}\\n\")\n",
        "except ValueError:\n",
        "    print(\"Invalid Input! Please enter a valid number.\")\n",
        "    num = None\n",
        "\n",
        "# Calendar Example\n",
        "try:\n",
        "    year = int(input(\"\\nEnter a Year to Display the Calendar: \"))\n",
        "    print(calendar.calendar(year))  # Display full year's calendar\n",
        "except ValueError:\n",
        "    print(\"Invalid Year! Please enter a valid number.\")"
      ],
      "metadata": {
        "colab": {
          "base_uri": "https://localhost:8080/"
        },
        "id": "qKVPsSaHsQLs",
        "outputId": "4fb43936-18f7-48d1-b15a-7f511662e048"
      },
      "execution_count": null,
      "outputs": [
        {
          "output_type": "stream",
          "name": "stdout",
          "text": [
            "Enter a Number: 2027\n",
            "You Entered: 2027\n",
            "\n",
            "\n",
            "Enter a Year to Display the Calendar: 2027\n",
            "                                  2027\n",
            "\n",
            "      January                   February                   March\n",
            "Mo Tu We Th Fr Sa Su      Mo Tu We Th Fr Sa Su      Mo Tu We Th Fr Sa Su\n",
            "             1  2  3       1  2  3  4  5  6  7       1  2  3  4  5  6  7\n",
            " 4  5  6  7  8  9 10       8  9 10 11 12 13 14       8  9 10 11 12 13 14\n",
            "11 12 13 14 15 16 17      15 16 17 18 19 20 21      15 16 17 18 19 20 21\n",
            "18 19 20 21 22 23 24      22 23 24 25 26 27 28      22 23 24 25 26 27 28\n",
            "25 26 27 28 29 30 31                                29 30 31\n",
            "\n",
            "       April                      May                       June\n",
            "Mo Tu We Th Fr Sa Su      Mo Tu We Th Fr Sa Su      Mo Tu We Th Fr Sa Su\n",
            "          1  2  3  4                      1  2          1  2  3  4  5  6\n",
            " 5  6  7  8  9 10 11       3  4  5  6  7  8  9       7  8  9 10 11 12 13\n",
            "12 13 14 15 16 17 18      10 11 12 13 14 15 16      14 15 16 17 18 19 20\n",
            "19 20 21 22 23 24 25      17 18 19 20 21 22 23      21 22 23 24 25 26 27\n",
            "26 27 28 29 30            24 25 26 27 28 29 30      28 29 30\n",
            "                          31\n",
            "\n",
            "        July                     August                  September\n",
            "Mo Tu We Th Fr Sa Su      Mo Tu We Th Fr Sa Su      Mo Tu We Th Fr Sa Su\n",
            "          1  2  3  4                         1             1  2  3  4  5\n",
            " 5  6  7  8  9 10 11       2  3  4  5  6  7  8       6  7  8  9 10 11 12\n",
            "12 13 14 15 16 17 18       9 10 11 12 13 14 15      13 14 15 16 17 18 19\n",
            "19 20 21 22 23 24 25      16 17 18 19 20 21 22      20 21 22 23 24 25 26\n",
            "26 27 28 29 30 31         23 24 25 26 27 28 29      27 28 29 30\n",
            "                          30 31\n",
            "\n",
            "      October                   November                  December\n",
            "Mo Tu We Th Fr Sa Su      Mo Tu We Th Fr Sa Su      Mo Tu We Th Fr Sa Su\n",
            "             1  2  3       1  2  3  4  5  6  7             1  2  3  4  5\n",
            " 4  5  6  7  8  9 10       8  9 10 11 12 13 14       6  7  8  9 10 11 12\n",
            "11 12 13 14 15 16 17      15 16 17 18 19 20 21      13 14 15 16 17 18 19\n",
            "18 19 20 21 22 23 24      22 23 24 25 26 27 28      20 21 22 23 24 25 26\n",
            "25 26 27 28 29 30 31      29 30                     27 28 29 30 31\n",
            "\n"
          ]
        }
      ]
    },
    {
      "cell_type": "code",
      "source": [
        "num1 = int(input('Enter A Number:'))\n",
        "\n",
        "for i in range(1,30):\n",
        "    print(f'{num1}x{i} ={num1*i}')\n",
        "    i +=1"
      ],
      "metadata": {
        "colab": {
          "base_uri": "https://localhost:8080/"
        },
        "id": "1HZz-0SQsnx-",
        "outputId": "fdf732a5-028d-41d6-901d-d8285ccba642"
      },
      "execution_count": null,
      "outputs": [
        {
          "output_type": "stream",
          "name": "stdout",
          "text": [
            "Enter A Number:27\n",
            "27x1 =27\n",
            "27x2 =54\n",
            "27x3 =81\n",
            "27x4 =108\n",
            "27x5 =135\n",
            "27x6 =162\n",
            "27x7 =189\n",
            "27x8 =216\n",
            "27x9 =243\n",
            "27x10 =270\n",
            "27x11 =297\n",
            "27x12 =324\n",
            "27x13 =351\n",
            "27x14 =378\n",
            "27x15 =405\n",
            "27x16 =432\n",
            "27x17 =459\n",
            "27x18 =486\n",
            "27x19 =513\n",
            "27x20 =540\n",
            "27x21 =567\n",
            "27x22 =594\n",
            "27x23 =621\n",
            "27x24 =648\n",
            "27x25 =675\n",
            "27x26 =702\n",
            "27x27 =729\n",
            "27x28 =756\n",
            "27x29 =783\n"
          ]
        }
      ]
    }
  ]
}