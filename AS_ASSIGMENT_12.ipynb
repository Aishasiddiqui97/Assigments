{
  "nbformat": 4,
  "nbformat_minor": 0,
  "metadata": {
    "colab": {
      "provenance": [],
      "authorship_tag": "ABX9TyO4A3pm/lssJ1LEaEyto2sg",
      "include_colab_link": true
    },
    "kernelspec": {
      "name": "python3",
      "display_name": "Python 3"
    },
    "language_info": {
      "name": "python"
    }
  },
  "cells": [
    {
      "cell_type": "markdown",
      "metadata": {
        "id": "view-in-github",
        "colab_type": "text"
      },
      "source": [
        "<a href=\"https://colab.research.google.com/github/Aishasiddiqui97/Assigments/blob/main/AS_ASSIGMENT_12.ipynb\" target=\"_parent\"><img src=\"https://colab.research.google.com/assets/colab-badge.svg\" alt=\"Open In Colab\"/></a>"
      ]
    },
    {
      "cell_type": "markdown",
      "source": [
        "MAP FUNCTION CONVERT LAMBDA FUNCTION"
      ],
      "metadata": {
        "id": "DAV6Y1Hkhav3"
      }
    },
    {
      "cell_type": "code",
      "source": [
        "numbers =[1,2,3,4,5]\n",
        "\n",
        "square =lambda Y: Y* Y\n",
        "sqrd_nums = list(map(square,numbers))\n",
        "print(sqrd_nums)"
      ],
      "metadata": {
        "colab": {
          "base_uri": "https://localhost:8080/"
        },
        "id": "jYQ6wmVJhb-v",
        "outputId": "dcb00bc1-f59a-4ed7-cc91-7b5e881e7705"
      },
      "execution_count": null,
      "outputs": [
        {
          "output_type": "stream",
          "name": "stdout",
          "text": [
            "[1, 4, 9, 16, 25]\n"
          ]
        }
      ]
    },
    {
      "cell_type": "markdown",
      "source": [
        "FACTORIAL FUNCTION"
      ],
      "metadata": {
        "id": "D7oVva9vlOg8"
      }
    },
    {
      "cell_type": "code",
      "source": [
        "def factorial(A:int)-> int:\n",
        "    if A==0:\n",
        "        return 1\n",
        "    else:\n",
        "        return A * factorial (A-1)\n",
        "user = int(input(\"enter a number of factorional:\"))\n",
        "result = (factorial(user))\n",
        "print (f\"the factorional of {user} is {result}\")"
      ],
      "metadata": {
        "id": "ffn5b9-GlPqx",
        "colab": {
          "base_uri": "https://localhost:8080/"
        },
        "outputId": "ea0d8b03-fc43-4530-ab0f-1ef05e33a313"
      },
      "execution_count": null,
      "outputs": [
        {
          "output_type": "stream",
          "name": "stdout",
          "text": [
            "enter a number of factorional:7\n",
            "the factorional of 7 is 5040\n"
          ]
        }
      ]
    }
  ]
}