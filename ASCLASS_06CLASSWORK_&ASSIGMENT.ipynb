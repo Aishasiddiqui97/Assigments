{
  "nbformat": 4,
  "nbformat_minor": 0,
  "metadata": {
    "colab": {
      "provenance": [],
      "authorship_tag": "ABX9TyNuN+vfJQ5jaVyQwQ9E/g+x",
      "include_colab_link": true
    },
    "kernelspec": {
      "name": "python3",
      "display_name": "Python 3"
    },
    "language_info": {
      "name": "python"
    }
  },
  "cells": [
    {
      "cell_type": "markdown",
      "metadata": {
        "id": "view-in-github",
        "colab_type": "text"
      },
      "source": [
        "<a href=\"https://colab.research.google.com/github/Aishasiddiqui97/Assigments/blob/main/ASCLASS_06CLASSWORK_%26ASSIGMENT.ipynb\" target=\"_parent\"><img src=\"https://colab.research.google.com/assets/colab-badge.svg\" alt=\"Open In Colab\"/></a>"
      ]
    },
    {
      "cell_type": "markdown",
      "source": [
        "Class_06\n",
        "\n",
        "Coding Work With Python By Sir Aneeq\n",
        "\n",
        "Range Function/Method\n",
        "1.starting point\n",
        "2.condition\n",
        "3.increment\n",
        "Multiplication Table - Aam Zindagi\n",
        "Multiplication Table - Mintos Zindagi # (Indentation)\n",
        "& (F-String)\n",
        "\n",
        "Loops"
      ],
      "metadata": {
        "id": "4VguVPGNbAV7"
      }
    },
    {
      "cell_type": "code",
      "source": [
        "numbers = [1, 2, 3, 4, 5, 6, 7, 8, 9]\n",
        "x = range(1, 10)\n",
        "print(numbers)\n",
        "print(list(x))"
      ],
      "metadata": {
        "colab": {
          "base_uri": "https://localhost:8080/"
        },
        "id": "RFFxLWCJbGMA",
        "outputId": "ec5ee997-9903-47a3-dfc3-49d960a95d40"
      },
      "execution_count": null,
      "outputs": [
        {
          "output_type": "stream",
          "name": "stdout",
          "text": [
            "[1, 2, 3, 4, 5, 6, 7, 8, 9]\n",
            "[1, 2, 3, 4, 5, 6, 7, 8, 9]\n"
          ]
        }
      ]
    },
    {
      "cell_type": "code",
      "source": [
        "num: int = 3\n",
        "print(\"3x 1 =\", num * 1)\n",
        "print(\"3 x 2 =\", num * 2)\n",
        "print(\"3 x 3 =\", num * 3)\n",
        "print(\"3 x 4 =\", num * 4)\n",
        "print(\"3 x 5 =\", num * 5)\n",
        "print(\"3 x 6 =\", num * 6)\n",
        "print(\"3 x 7 =\", num * 7)\n",
        "print(\"3 x 8 =\", num * 8)\n",
        "print(\"3 x 9 =\", num * 9)\n",
        "print(\"3 x 10 =\", num * 10)\n"
      ],
      "metadata": {
        "colab": {
          "base_uri": "https://localhost:8080/"
        },
        "id": "zKISRBSLcGzX",
        "outputId": "68e214c6-c44b-4e2e-8b17-73d91e338502"
      },
      "execution_count": null,
      "outputs": [
        {
          "output_type": "stream",
          "name": "stdout",
          "text": [
            "3x 1 = 3\n",
            "3 x 2 = 6\n",
            "3 x 3 = 9\n",
            "3 x 4 = 12\n",
            "3 x 5 = 15\n",
            "3 x 6 = 18\n",
            "3 x 7 = 21\n",
            "3 x 8 = 24\n",
            "3 x 9 = 27\n",
            "3 x 10 = 30\n"
          ]
        }
      ]
    },
    {
      "cell_type": "code",
      "source": [
        "num: int = 4\n",
        "print(\"4 x 1 =\", num * 1)\n",
        "print(\"4 x 2 =\", num * 2)\n",
        "print(\"4 x 3 =\", num * 3)\n",
        "print(\"4 x 4 =\", num * 4)\n",
        "print(\"4 x 5 =\", num * 5)\n",
        "print(\"4 x 6 =\", num * 6)\n",
        "print(\"4 x 7 =\", num * 7)\n",
        "print(\"4 x 8 =\", num * 8)\n",
        "print(\"4 x 9 =\", num * 9)\n",
        "print(\"4x 10 =\", num * 10)\n"
      ],
      "metadata": {
        "colab": {
          "base_uri": "https://localhost:8080/"
        },
        "id": "vQ5ynvGpcbgz",
        "outputId": "60e72d91-3d8f-4fac-c58d-fc2dd7edda1e"
      },
      "execution_count": null,
      "outputs": [
        {
          "output_type": "stream",
          "name": "stdout",
          "text": [
            "4 x 1 = 4\n",
            "4 x 2 = 8\n",
            "4 x 3 = 12\n",
            "4 x 4 = 16\n",
            "4 x 5 = 20\n",
            "4 x 6 = 24\n",
            "4 x 7 = 28\n",
            "4 x 8 = 32\n",
            "4 x 9 = 36\n",
            "4x 10 = 40\n"
          ]
        }
      ]
    },
    {
      "cell_type": "code",
      "source": [
        "num: int = 5\n",
        "print(\"5 x 1 =\", num * 1)\n",
        "print(\"5 x 2 =\", num * 2)\n",
        "print(\"5 x 3 =\", num * 3)\n",
        "print(\"5 x 4 =\", num * 4)\n",
        "print(\"5 x 5 =\", num * 5)\n",
        "print(\"5 x 6 =\", num * 6)\n",
        "print(\"5 x 7 =\", num * 7)\n",
        "print(\"5 x 8 =\", num * 8)\n",
        "print(\"5 x 9 =\", num * 9)\n",
        "print(\"5 x 10 =\", num * 10)\n"
      ],
      "metadata": {
        "colab": {
          "base_uri": "https://localhost:8080/"
        },
        "id": "dt1mWSeMck1V",
        "outputId": "747e3137-948d-402f-cdf2-961967235fe3"
      },
      "execution_count": null,
      "outputs": [
        {
          "output_type": "stream",
          "name": "stdout",
          "text": [
            "5 x 1 = 5\n",
            "5 x 2 = 10\n",
            "5 x 3 = 15\n",
            "5 x 4 = 20\n",
            "5 x 5 = 25\n",
            "5 x 6 = 30\n",
            "5 x 7 = 35\n",
            "5 x 8 = 40\n",
            "5 x 9 = 45\n",
            "5 x 10 = 50\n"
          ]
        }
      ]
    },
    {
      "cell_type": "markdown",
      "source": [],
      "metadata": {
        "id": "FN9AzFSic7NA"
      }
    },
    {
      "cell_type": "markdown",
      "metadata": {
        "id": "ABxVQpy8tmUQ"
      },
      "source": [
        "2. Loops\n",
        "\n",
        "# A. For Loop\n",
        "# B. While Loop\n",
        "\n",
        "# While Loop\n",
        "\n",
        "# PS Check with While Loop"
      ]
    },
    {
      "cell_type": "code",
      "source": [
        "num = 2\n",
        "while num < 10:\n",
        "    print(\"number before increment:\", num)\n",
        "    num += 1\n",
        "print(\"number after increment:\", num)"
      ],
      "metadata": {
        "colab": {
          "base_uri": "https://localhost:8080/"
        },
        "id": "tn83a6zjdMIB",
        "outputId": "df42c2ef-3187-443c-8252-4c0277e69ed3"
      },
      "execution_count": null,
      "outputs": [
        {
          "output_type": "stream",
          "name": "stdout",
          "text": [
            "number before increment: 2\n",
            "number before increment: 3\n",
            "number before increment: 4\n",
            "number before increment: 5\n",
            "number before increment: 6\n",
            "number before increment: 7\n",
            "number before increment: 8\n",
            "number before increment: 9\n",
            "number after increment: 10\n"
          ]
        }
      ]
    },
    {
      "cell_type": "code",
      "source": [
        "password: str = \"python123\"\n",
        "user_input: str = \"\"\n",
        "\n",
        "while user_input != password:\n",
        "    print(\"Incorrect password!\")\n",
        "    user_input = input(\"Type your password: \")\n",
        "\n",
        "print(\"Correct password! Welcome!\")"
      ],
      "metadata": {
        "colab": {
          "base_uri": "https://localhost:8080/"
        },
        "id": "3riO4sCWdxTP",
        "outputId": "1c815d29-d560-481b-e54c-197e59021a51"
      },
      "execution_count": null,
      "outputs": [
        {
          "output_type": "stream",
          "name": "stdout",
          "text": [
            "Incorrect password!\n",
            "Type your password: \n",
            "Incorrect password!\n",
            "Type your password: python123\n",
            "Correct password! Welcome!\n"
          ]
        }
      ]
    },
    {
      "cell_type": "markdown",
      "source": [
        "\n",
        "Integer\n",
        "Boolean\n",
        "List (Mutable)\n",
        "Tuple (Immutable)\n",
        "Lists & Tuples\n",
        "List Example (Mutable)\n",
        "Tuple Example (Immutable)"
      ],
      "metadata": {
        "id": "iIvjuONXeFNn"
      }
    },
    {
      "cell_type": "code",
      "source": [
        "numbers = [1, 2, 3, 4, 5]\n",
        "names1 = [\"Ali\", \"asad\", \"aisha\", \"moazzam\"]\n",
        "names2 = (\"Ali\", \"asad\", \"aisha\", \"moazzam\")\n",
        "\n",
        "print(\"names1 before overwrite:\", names1)\n",
        "names1[1] = \"Abdullah\"\n",
        "print(\"names1 after overwrite:\", names1)\n",
        "\n",
        "print(\"names2 is immutable:\", names2)\n",
        "\n",
        "print(\"List first name is:\", names1[0])\n",
        "print(\"Tuple first name is:\", names2[0])"
      ],
      "metadata": {
        "colab": {
          "base_uri": "https://localhost:8080/"
        },
        "id": "M4c1mFUfeMfu",
        "outputId": "5a617627-6084-463f-eb61-770dec7b7d4f"
      },
      "execution_count": null,
      "outputs": [
        {
          "output_type": "stream",
          "name": "stdout",
          "text": [
            "names1 before overwrite: ['Ali', 'asad', 'aisha', 'moazzam']\n",
            "names1 after overwrite: ['Ali', 'Abdullah', 'aisha', 'moazzam']\n",
            "names2 is immutable: ('Ali', 'asad', 'aisha', 'moazzam')\n",
            "List first name is: Ali\n",
            "Tuple first name is: Ali\n"
          ]
        }
      ]
    },
    {
      "cell_type": "code",
      "source": [
        "Class_06 = \"Coding Work With Python By Sir Aneeq ,Sir Aleem\"\n",
        "print(Class_06)\n",
        "\n",
        "numbers =  [1,2,3,4,5,6,7,8,9]\n",
        "x = range(1,10)\n",
        "\n",
        "print(numbers)\n",
        "print(list(x))\n",
        "\n",
        "num: int = 7\n",
        "print(\"7 x 1 =\", num * 1  )\n",
        "print(\"7 x 2 =\", num * 2  )\n",
        "print(\"7 x 3 =\", num * 3  )\n",
        "print(\"7 x 4 =\", num * 4  )\n",
        "print(\"7 x 5 =\", num * 5  )\n",
        "print(\"7 x 6 =\", num * 6  )\n",
        "print(\"7 x 7 =\", num * 7  )\n",
        "print(\"7 x 8 =\", num * 8  )\n",
        "print(\"7 x 9 =\", num * 9  )\n",
        "print(\"7 x 10 =\", num * 10 )\n",
        "\n",
        "for num in range(1,11):\n",
        "     print(\"2 x\",num , \"=\", 2 * num)\n",
        "     print(f\"2 x {num} = {2 * num}\")\n",
        "\n",
        "num = 1\n",
        "num = num + 1\n",
        "print(\"Num First Time\", num)\n",
        "num = num + 1\n",
        "print(\"Num Second Time\", num)\n",
        "print(num < 10)\n",
        "while num >= 10:\n",
        "     print(\"Number Before Increment\", num)\n",
        "num = num + 1\n",
        "print(\"Number After Increment\", num)\n",
        "\n",
        "password: str = \"Python123\"\n",
        "user_input: str = \"\"\n",
        "\n",
        "print(\"user_input != password is\",user_input != password)\n",
        "while user_input == password:\n",
        "     print(\"Correct Password\")\n",
        "user_input = input(\"Type Your Answer Please\")\n",
        "print(\"Correct Password is Welcome\")\n",
        "\n",
        "numbers = [1,2,3,4,5]\n",
        "\n",
        "names1 = [\"Ali\",\"Bilal\",\"Hamza\",\"Okasha\"]\n",
        "\n",
        "names2 = (\"Ali\", \"Bilal\", \"Hamza\", \"Okasha\")\n",
        "name: str  = \"Ali\"\n",
        "name  = \"Bilal\"\n",
        "print(\"name is\", name)\n",
        "\n",
        "print(\"Names1 Before Over Write\", names1)\n",
        "Bilal    =  \"Abdullah\"\n",
        "names1[2] = \"Abdullah\"\n",
        "print(\"Names1 After Over Write\", names1)\n",
        "\n",
        "\n",
        "print(\"Names2 Before Over Write\", names2)\n",
        "Bilal    =  \"Abdullah\"\n",
        "names1 = \"Abdullah\"\n",
        "print(\"Names2 After Over Write\", names2)\n",
        "\n",
        "\n",
        "print(\"List First Name is\", names1[0])\n",
        "print(\"Tuple First Name is\", names2[0])"
      ],
      "metadata": {
        "colab": {
          "base_uri": "https://localhost:8080/"
        },
        "id": "aKvoboxkfpv4",
        "outputId": "208fd024-49c3-47e7-e743-08c5a93491e6"
      },
      "execution_count": null,
      "outputs": [
        {
          "output_type": "stream",
          "name": "stdout",
          "text": [
            "Coding Work With Python By Sir Aneeq ,Sir Aleem\n",
            "[1, 2, 3, 4, 5, 6, 7, 8, 9]\n",
            "[1, 2, 3, 4, 5, 6, 7, 8, 9]\n",
            "7 x 1 = 7\n",
            "7 x 2 = 14\n",
            "7 x 3 = 21\n",
            "7 x 4 = 28\n",
            "7 x 5 = 35\n",
            "7 x 6 = 42\n",
            "7 x 7 = 49\n",
            "7 x 8 = 56\n",
            "7 x 9 = 63\n",
            "7 x 10 = 70\n",
            "2 x 1 = 2\n",
            "2 x 1 = 2\n",
            "2 x 2 = 4\n",
            "2 x 2 = 4\n",
            "2 x 3 = 6\n",
            "2 x 3 = 6\n",
            "2 x 4 = 8\n",
            "2 x 4 = 8\n",
            "2 x 5 = 10\n",
            "2 x 5 = 10\n",
            "2 x 6 = 12\n",
            "2 x 6 = 12\n",
            "2 x 7 = 14\n",
            "2 x 7 = 14\n",
            "2 x 8 = 16\n",
            "2 x 8 = 16\n",
            "2 x 9 = 18\n",
            "2 x 9 = 18\n",
            "2 x 10 = 20\n",
            "2 x 10 = 20\n",
            "Num First Time 2\n",
            "Num Second Time 3\n",
            "True\n",
            "Number After Increment 4\n",
            "user_input != password is True\n",
            "Type Your Answer Pleaseali\n",
            "Correct Password is Welcome\n",
            "name is Bilal\n",
            "Names1 Before Over Write ['Ali', 'Bilal', 'Hamza', 'Okasha']\n",
            "Names1 After Over Write ['Ali', 'Bilal', 'Abdullah', 'Okasha']\n",
            "Names2 Before Over Write ('Ali', 'Bilal', 'Hamza', 'Okasha')\n",
            "Names2 After Over Write ('Ali', 'Bilal', 'Hamza', 'Okasha')\n",
            "List First Name is A\n",
            "Tuple First Name is Ali\n"
          ]
        }
      ]
    }
  ]
}