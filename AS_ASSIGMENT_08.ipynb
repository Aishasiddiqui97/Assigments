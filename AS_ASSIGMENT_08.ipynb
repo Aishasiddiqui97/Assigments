{
  "nbformat": 4,
  "nbformat_minor": 0,
  "metadata": {
    "colab": {
      "provenance": [],
      "authorship_tag": "ABX9TyNWUANqIq610Mm4/OYy3ZWi",
      "include_colab_link": true
    },
    "kernelspec": {
      "name": "python3",
      "display_name": "Python 3"
    },
    "language_info": {
      "name": "python"
    }
  },
  "cells": [
    {
      "cell_type": "markdown",
      "metadata": {
        "id": "view-in-github",
        "colab_type": "text"
      },
      "source": [
        "<a href=\"https://colab.research.google.com/github/Aishasiddiqui97/Assigments/blob/main/AS_ASSIGMENT_08.ipynb\" target=\"_parent\"><img src=\"https://colab.research.google.com/assets/colab-badge.svg\" alt=\"Open In Colab\"/></a>"
      ]
    },
    {
      "cell_type": "markdown",
      "source": [
        "\n",
        "**Python** :\n",
        "String Methods\n",
        "Capitalizes the first letter of the string\n",
        "Counts occurrences of 'a'\n",
        "Length of the string\n",
        "Finds the first occurrence of 'P'\n",
        "Converts string to uppercase\n",
        "Converts string to lowercase\n",
        "Checks if string starts with 'P'\n",
        "Checks if string ends with 'n'\n",
        "Replaces 'pakistan' with 'India'\n",
        "Splits the string at 'a' and returns a list\n",
        "Checks if all characters are alphabetic\n",
        "Checks if all characters are digits\n",
        "Removes any leading or trailing spaces"
      ],
      "metadata": {
        "id": "zhxIp9zBdJ4P"
      }
    },
    {
      "cell_type": "code",
      "source": [
        "name:str = \"Pakistan\"\n",
        "name:str = name.capitalize()\n",
        "print(\"String capitalize:\", name)  # Capitalizes the first letter of the string\n",
        "print(\"count of 'a':\",name.count('a'))   # Counts occurrences of 'a'\n",
        "print(\"lenght of string:\",len(name))   # Length of the string\n",
        "print(\"find 'p' in string:\" ,name.find('P')) ## Finds the first occurrence of 'P'\n",
        "print(\"Uppercase version:\", name.upper())   # Converts string to uppercase\n",
        "print(\"Lowercase version:\", name.lower())    # Converts string to lowercase\n",
        "print(\"String start with 'p'\",name.startswith('p'))   # Checks if string start with 'p'\n",
        "print(\"String start with 'n'\",name.endswith('n'))   # Checks if string ends with 'n'\n",
        "print(\"Replaced string:\",name.replace(\"Pakistan\" , \"Turkey\"))  # Replaced'pakistan' with 'Turkey'\n",
        "print(\"Split string:\",name.split('a'))   # Splits the string at 'a' and returns a list\n",
        "print(\"is all alphabatic:\",name.isalpha())  # Checks if all characters are alphabetic\n",
        "print(\"Is all digits:\", name.isdigit())   # Checks if all characters are digits\n",
        "print(\"string the spaces removed:\",name.strip())  # Removes any leading or trailing spaces\n"
      ],
      "metadata": {
        "colab": {
          "base_uri": "https://localhost:8080/"
        },
        "id": "PdLh2T0ydgel",
        "outputId": "6bb47ba1-18b8-4e29-f201-0a32fab52c9e"
      },
      "execution_count": 54,
      "outputs": [
        {
          "output_type": "stream",
          "name": "stdout",
          "text": [
            "String capitalize: Pakistan\n",
            "count of 'a': 2\n",
            "lenght of string: 8\n",
            "find 'p' in string: 0\n",
            "Uppercase version: PAKISTAN\n",
            "Lowercase version: pakistan\n",
            "String start with 'p' False\n",
            "String start with 'n' True\n",
            "Replaced string: Turkey\n",
            "Split string: ['P', 'kist', 'n']\n",
            "is all alphabatic: True\n",
            "Is all digits: False\n",
            "string the spaces removed: Pakistan\n"
          ]
        }
      ]
    },
    {
      "cell_type": "markdown",
      "source": [
        "List Methods\n",
        "1. Append\n",
        "2. Insert\n",
        "3. Reverse\n",
        "4. Pop\n",
        "5. Remove\n",
        "6. Sort\n",
        "7. Extend\n",
        "8. Copy\n",
        "9. Index\n",
        "10. Count\n",
        "11. Clear\n",
        "12. Slice\n",
        "\n",
        "[ ]\n",
        "Tuple Methods\n",
        "&\n",
        "Index"
      ],
      "metadata": {
        "id": "iTJQr8uFr-M5"
      }
    },
    {
      "cell_type": "code",
      "source": [
        "# Tuple Methods\n",
        "my_tuple = ('Aisha', 'Anjali', \"Moazzam\", 'Mutarza')\n",
        "print(\"Tuple:\", my_tuple)\n",
        "count_of_Moazzam= my_tuple.count(\"Moazzam\")\n",
        "print(\"Count of 'Moazzam' in tuple:\", count_of_Moazzam)\n",
        "\n",
        "# Index\n",
        "index_of_Aisha = my_tuple.index(\"Aisha\")\n",
        "print(\"Index of 'Aisha':\", index_of_Aisha)"
      ],
      "metadata": {
        "colab": {
          "base_uri": "https://localhost:8080/"
        },
        "id": "E3CpSTgNsPHI",
        "outputId": "f484b552-d367-404a-f174-2d23cdf08de6"
      },
      "execution_count": 56,
      "outputs": [
        {
          "output_type": "stream",
          "name": "stdout",
          "text": [
            "Tuple: ('Aisha', 'Anjali', 'Moazzam', 'Mutarza')\n",
            "Count of 'Moazzam' in tuple: 1\n",
            "Index of 'Aisha': 0\n"
          ]
        }
      ]
    },
    {
      "cell_type": "markdown",
      "source": [
        " Dictoranry Method\n",
        "1. Keys\n",
        "2. Values\n",
        "3. Items\n",
        "4. Get\n",
        "5. Update\n",
        "6. Pop\n",
        "7. Pop Item\n",
        "8. Clear\n",
        "9. Setdefault\n",
        "10. Fromkeys\n",
        "11. Copy\n",
        "12. Contains"
      ],
      "metadata": {
        "id": "h1vEiKjTtMpJ"
      }
    },
    {
      "cell_type": "code",
      "source": [
        "\n",
        "new_dic = {\n",
        "          'Name': 'Aisha',\n",
        "          'Gender': 'Female',\n",
        "          'Age' : 27\n",
        "}\n",
        "\n",
        "print(new_dic)\n",
        "\n",
        "\n",
        "# 1. keys\n",
        "print(new_dic.keys())\n",
        "\n",
        "\n",
        "# 2. values\n",
        "print(new_dic.values())\n",
        "\n",
        "\n",
        "# 3. items\n",
        "print(new_dic.items())\n",
        "\n",
        "\n",
        "# 4. get\n",
        "print(new_dic.get(\"Name\"))\n",
        "\n",
        "\n",
        "# 5. update\n",
        "new_dic1 = {\"city\" : \"Islamabad\"}\n",
        "new_dic2 = {\"Country\": \"Pakistan\"}\n",
        "new_dic.update(new_dic1)\n",
        "new_dic.update(new_dic2)\n",
        "print(new_dic1)\n",
        "print(new_dic2)\n",
        "\n",
        "\n",
        "# 6. pop in dictionary\n",
        "print(new_dic.pop(\"Age\"))\n",
        "print(new_dic)\n",
        "\n",
        "# 7. Pop Item\n",
        "print(\"Pop last item:\", new_dic.popitem())\n",
        "print(\"Dictionary after pop item:\", new_dic)\n",
        "\n",
        "\n",
        "# 8. clear\n",
        "new_dic.clear()\n",
        "print(new_dic)\n",
        "\n",
        "\n",
        "# 9. Setdefault\n",
        "new_dic = {'Name': 'Aisha'}\n",
        "new_dic.setdefault('Age', 28)\n",
        "print(\"Setdefault method:\", new_dic)\n",
        "\n",
        "\n",
        "# 10. Fromkeys\n",
        "new_dict_fromkeys = dict.fromkeys(['a', 'b', 'c'], 10)\n",
        "print(\"Fromkeys method:\", new_dict_fromkeys)\n",
        "\n",
        "\n",
        "# 11. Copy\n",
        "new_dic_copy = new_dic.copy()\n",
        "print(\"Copy of dictionary:\", new_dic_copy)\n",
        "\n",
        "\n",
        "# 12. Contains\n",
        "print(\"'Name' in dictionary:\", 'Name' in new_dic)"
      ],
      "metadata": {
        "colab": {
          "base_uri": "https://localhost:8080/"
        },
        "id": "OXzIK-i4tZIO",
        "outputId": "afa5f2c3-4a7a-4eed-8a05-4d2c3cb83ad8"
      },
      "execution_count": 57,
      "outputs": [
        {
          "output_type": "stream",
          "name": "stdout",
          "text": [
            "{'Name': 'Aisha', 'Gender': 'Female', 'Age': 27}\n",
            "dict_keys(['Name', 'Gender', 'Age'])\n",
            "dict_values(['Aisha', 'Female', 27])\n",
            "dict_items([('Name', 'Aisha'), ('Gender', 'Female'), ('Age', 27)])\n",
            "Aisha\n",
            "{'city': 'Islamabad'}\n",
            "{'Country': 'Pakistan'}\n",
            "27\n",
            "{'Name': 'Aisha', 'Gender': 'Female', 'city': 'Islamabad', 'Country': 'Pakistan'}\n",
            "Pop last item: ('Country', 'Pakistan')\n",
            "Dictionary after pop item: {'Name': 'Aisha', 'Gender': 'Female', 'city': 'Islamabad'}\n",
            "{}\n",
            "Setdefault method: {'Name': 'Aisha', 'Age': 28}\n",
            "Fromkeys method: {'a': 10, 'b': 10, 'c': 10}\n",
            "Copy of dictionary: {'Name': 'Aisha', 'Age': 28}\n",
            "'Name' in dictionary: True\n"
          ]
        }
      ]
    },
    {
      "cell_type": "markdown",
      "source": [],
      "metadata": {
        "id": "cnX1LuW9wAzX"
      }
    },
    {
      "cell_type": "markdown",
      "source": [
        "# Code Explanation:\n",
        "\n",
        "# 1. String Methods:\n",
        "#   - capitalize(), count(), len(), find(), upper(), lower(), startswith(), endswith(), replace(), split(), isalpha(), isdigit(), strip().\n",
        "   \n",
        "# 2. List Methods:\n",
        "#   - append(), insert(), reverse(), pop(), remove(), sort(), extend(), copy(), index(), count(), clear(), slice().\n",
        "\n",
        "# 3. Tuple Methods:\n",
        "#   - count(), index().\n",
        "\n",
        "# 4. Dictionary Methods:\n",
        "#   - keys(), values(), items(), get(), update(), pop(), popitem(), clear(), setdefault(), fromkeys(), copy(), contains() (with in operator)."
      ],
      "metadata": {
        "id": "aZvdGtwZivyl"
      }
    }
  ]
}